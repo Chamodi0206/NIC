{
  "nbformat": 4,
  "nbformat_minor": 0,
  "metadata": {
    "colab": {
      "provenance": []
    },
    "kernelspec": {
      "name": "python3",
      "display_name": "Python 3"
    },
    "language_info": {
      "name": "python"
    }
  },
  "cells": [
    {
      "cell_type": "code",
      "execution_count": null,
      "metadata": {
        "id": "TrGQ8v8--fNt"
      },
      "outputs": [],
      "source": [
        "import numpy as np"
      ]
    },
    {
      "cell_type": "code",
      "source": [
        "# Define the objective function (makespan: max load on any processor)\n",
        "def calculate_makespan(schedule, task_times):\n",
        "    processor_loads = [0] * len(schedule)  # Load of each processor\n",
        "    for processor, tasks in enumerate(schedule):\n",
        "        processor_loads[processor] = sum(task_times[task] for task in tasks)\n",
        "    return max(processor_loads)"
      ],
      "metadata": {
        "id": "0gCkLUl3_C3t"
      },
      "execution_count": null,
      "outputs": []
    },
    {
      "cell_type": "code",
      "source": [
        "# Generate a neighboring solution by swapping tasks between processors\n",
        "def generate_neighbor(schedule):\n",
        "    new_schedule = [tasks.copy() for tasks in schedule]\n",
        "    proc1, proc2 = np.random.choice(len(schedule), 2, replace=False)\n",
        "    if new_schedule[proc1]:  # Ensure proc1 has tasks to swap\n",
        "        task = np.random.choice(new_schedule[proc1])\n",
        "        new_schedule[proc1].remove(task)\n",
        "        new_schedule[proc2].append(task)\n",
        "    return new_schedule"
      ],
      "metadata": {
        "id": "p8VnH4MS_T36"
      },
      "execution_count": null,
      "outputs": []
    },
    {
      "cell_type": "code",
      "source": [
        "# Simulated Annealing Algorithm\n",
        "def simulated_annealing(task_times, num_processors, initial_temp, cooling_rate, max_iter):\n",
        "    # Initialize a random schedule\n",
        "    tasks = list(range(len(task_times)))\n",
        "    schedule = [[] for _ in range(num_processors)]  # Create empty lists for each processor\n",
        "    for task in tasks:\n",
        "        random_processor = np.random.choice(len(schedule))  # Select a random processor index\n",
        "        schedule[random_processor].append(task)  # Assign the task to the selected processor\n",
        "\n",
        "    current_schedule = schedule\n",
        "    current_cost = calculate_makespan(current_schedule, task_times)\n",
        "    best_schedule = current_schedule\n",
        "    best_cost = current_cost\n",
        "    temperature = initial_temp\n",
        "\n",
        "    for iteration in range(max_iter):\n",
        "        # Generate a neighbor and evaluate its cost\n",
        "        neighbor_schedule = generate_neighbor(current_schedule)\n",
        "        neighbor_cost = calculate_makespan(neighbor_schedule, task_times)\n",
        "\n",
        "        # Acceptance Criteria\n",
        "        if neighbor_cost < current_cost or np.random.rand() < np.exp((current_cost - neighbor_cost) / temperature):\n",
        "            current_schedule = neighbor_schedule\n",
        "            current_cost = neighbor_cost\n",
        "            if neighbor_cost < best_cost:\n",
        "                best_schedule = neighbor_schedule\n",
        "                best_cost = neighbor_cost\n",
        "\n",
        "        # Cooling\n",
        "        temperature *= cooling_rate\n",
        "\n",
        "        # Logging progress\n",
        "        if iteration % 100 == 0:\n",
        "            print(f\"Iteration {iteration}: Best Cost = {best_cost}\")\n",
        "\n",
        "        # Terminate if temperature is very low\n",
        "        if temperature < 1e-5:\n",
        "            break\n",
        "\n",
        "    return best_schedule, best_cost\n"
      ],
      "metadata": {
        "id": "Kds1NeG7_gCs"
      },
      "execution_count": null,
      "outputs": []
    },
    {
      "cell_type": "code",
      "source": [
        "# Example Task Times and Execution\n",
        "task_times = [5, 3, 8, 6, 2, 7, 4]  # Time required by each task\n",
        "num_processors = 3  # Number of processors\n",
        "initial_temp = 100\n",
        "cooling_rate = 0.95\n",
        "max_iter = 1000"
      ],
      "metadata": {
        "id": "MnzHE_PxDZqK"
      },
      "execution_count": null,
      "outputs": []
    },
    {
      "cell_type": "code",
      "source": [
        "# Run Simulated Annealing\n",
        "best_schedule, best_cost = simulated_annealing(task_times, num_processors, initial_temp, cooling_rate, max_iter)\n",
        "print(\"\\nBest Schedule:\", best_schedule)\n",
        "print(\"Minimum Makespan (Best Cost):\", best_cost)"
      ],
      "metadata": {
        "colab": {
          "base_uri": "https://localhost:8080/"
        },
        "id": "Xt6eCiyeDcrv",
        "outputId": "f2c6d3b3-2a40-4f4b-ab72-5424c2117e8d"
      },
      "execution_count": null,
      "outputs": [
        {
          "output_type": "stream",
          "name": "stdout",
          "text": [
            "Iteration 0: Best Cost = 14\n",
            "Iteration 100: Best Cost = 13\n",
            "Iteration 200: Best Cost = 13\n",
            "Iteration 300: Best Cost = 13\n",
            "\n",
            "Best Schedule: [[4, 3, 0], [1, 2], [5, 6]]\n",
            "Minimum Makespan (Best Cost): 13\n"
          ]
        }
      ]
    }
  ]
}